{
 "cells": [
  {
   "cell_type": "markdown",
   "id": "dde84775",
   "metadata": {},
   "source": []
  },
  {
   "cell_type": "markdown",
   "id": "bef12e1f",
   "metadata": {},
   "source": [
    "\n",
    "# Applied Statistics\n",
    "## Grainne Boyle\n"
   ]
  },
  {
   "cell_type": "code",
   "execution_count": 2,
   "id": "e97ec9f1",
   "metadata": {},
   "outputs": [],
   "source": [
    "import math\n",
    "import itertools\n",
    "import random\n",
    "import numpy as np\n",
    "import matplotlib.pyplot as plt\n"
   ]
  },
  {
   "cell_type": "markdown",
   "id": "ef48c934",
   "metadata": {},
   "source": [
    "## Problem 1: Extending the Lady Tasting Tea"
   ]
  },
  {
   "cell_type": "code",
   "execution_count": 3,
   "id": "d398b2b4",
   "metadata": {},
   "outputs": [
    {
     "data": {
      "text/plain": [
       "495"
      ]
     },
     "execution_count": 3,
     "metadata": {},
     "output_type": "execute_result"
    }
   ],
   "source": [
    "# In this example, we calculate the number of ways that we can choose k elements from a set of n elements\n",
    "# In the formula for combinations, we choose k objects from n-(n/k)= n!/k!(n-k)!\n",
    "# where n = total number of no of cups and k = number of cups with milk first\n",
    "\n",
    "# Number of cups of tea in total\n",
    "no_cups = 12\n",
    "\n",
    "# Number of cups of tea with milk in first \n",
    "no_cups_milk_first = 4\n",
    "\n",
    "# Number of cups of tea with tea in first \n",
    "no_cups_tea_first = 8\n",
    "\n",
    "# Number of ways that we can select cups with milk in first from a total of 12 cups\n",
    "ways = math.comb(no_cups, no_cups_milk_first)\n",
    "\n",
    "\n",
    "# Show the result\n",
    "ways"
   ]
  },
  {
   "cell_type": "markdown",
   "id": "1e0fb713",
   "metadata": {},
   "source": [
    "## Problem 2: Normal Distribution"
   ]
  },
  {
   "cell_type": "markdown",
   "id": "6c9b2da8",
   "metadata": {},
   "source": [
    "## Problem 3: t-Tests"
   ]
  },
  {
   "cell_type": "markdown",
   "id": "c8659377",
   "metadata": {},
   "source": [
    "##  Problem 4: Anova"
   ]
  },
  {
   "cell_type": "markdown",
   "id": "8464bfcc",
   "metadata": {},
   "source": [
    "![abacus](img/statistics.jpg)"
   ]
  },
  {
   "cell_type": "markdown",
   "id": "137cd927",
   "metadata": {},
   "source": [
    "-----------------------------------\n",
    "# END\n",
    "\n"
   ]
  }
 ],
 "metadata": {
  "kernelspec": {
   "display_name": "base",
   "language": "python",
   "name": "python3"
  },
  "language_info": {
   "codemirror_mode": {
    "name": "ipython",
    "version": 3
   },
   "file_extension": ".py",
   "mimetype": "text/x-python",
   "name": "python",
   "nbconvert_exporter": "python",
   "pygments_lexer": "ipython3",
   "version": "3.12.4"
  }
 },
 "nbformat": 4,
 "nbformat_minor": 5
}
