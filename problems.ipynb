{
 "cells": [
  {
   "cell_type": "markdown",
   "id": "dde84775",
   "metadata": {},
   "source": []
  },
  {
   "cell_type": "markdown",
   "id": "bef12e1f",
   "metadata": {},
   "source": [
    "\n",
    "# Applied Statistics\n",
    "\n",
    "\n"
   ]
  },
  {
   "cell_type": "code",
   "execution_count": null,
   "id": "ef48c934",
   "metadata": {},
   "outputs": [],
   "source": [
    "\n"
   ]
  },
  {
   "cell_type": "markdown",
   "id": "3abde4ef",
   "metadata": {},
   "source": [
    "##  Problem 1- Extending the Lady Tasting Tea"
   ]
  },
  {
   "cell_type": "markdown",
   "id": "aaad0ad9",
   "metadata": {},
   "source": [
    "##  Problem 2: Normal Distribution"
   ]
  },
  {
   "cell_type": "markdown",
   "id": "b2a9dd20",
   "metadata": {},
   "source": [
    "##  Problem 3: t-Tests"
   ]
  },
  {
   "cell_type": "markdown",
   "id": "92e54386",
   "metadata": {},
   "source": [
    "![abacus](img/abacus.jpg)"
   ]
  },
  {
   "cell_type": "markdown",
   "id": "c8659377",
   "metadata": {},
   "source": [
    "##  Problem 4: Anova"
   ]
  },
  {
   "cell_type": "markdown",
   "id": "137cd927",
   "metadata": {},
   "source": [
    "-----------------------------------\n",
    "# END\n",
    "\n"
   ]
  }
 ],
 "metadata": {
  "kernelspec": {
   "display_name": "base",
   "language": "python",
   "name": "python3"
  },
  "language_info": {
   "codemirror_mode": {
    "name": "ipython",
    "version": 3
   },
   "file_extension": ".py",
   "mimetype": "text/x-python",
   "name": "python",
   "nbconvert_exporter": "python",
   "pygments_lexer": "ipython3",
   "version": "3.12.4"
  }
 },
 "nbformat": 4,
 "nbformat_minor": 5
}
