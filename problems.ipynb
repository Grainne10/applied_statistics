{
 "cells": [
  {
   "cell_type": "markdown",
   "id": "dde84775",
   "metadata": {},
   "source": []
  },
  {
   "cell_type": "markdown",
   "id": "bef12e1f",
   "metadata": {},
   "source": [
    "\n",
    "# Applied Statistics\n",
    "## Grainne Boyle\n"
   ]
  },
  {
   "cell_type": "code",
   "execution_count": 1,
   "id": "e97ec9f1",
   "metadata": {},
   "outputs": [],
   "source": [
    "# I import the following libraries for various functionalities in my project:  \n",
    "\n",
    "import math # Provides extensive mathematical functions.  \n",
    "import itertools # Provides tools for creating iterators such as combinations() and permutations(). Helps you loop and combine things efficiently.  \n",
    "import random # Used for generating random numbers and random selections \n",
    "import numpy as np # package for numerical computations and arrays\n",
    "import matplotlib.pyplot as plt # Used for creating visualizations and plots\n",
    "\n",
    " \n",
    "\n",
    "# Add some notes and links on your research of different import libraries and how you plan to use them in your project:\n"
   ]
  },
  {
   "cell_type": "markdown",
   "id": "ef48c934",
   "metadata": {},
   "source": [
    "## Problem 1: Extending the Lady Tasting Tea"
   ]
  },
  {
   "cell_type": "markdown",
   "id": "13712876",
   "metadata": {},
   "source": [
    "[Lady tasting tea](https://en.wikipedia.org/wiki/Lady_tasting_tea)\n",
    "This project begins with a look at the lady tasting tea, a randomised experiment devised by Ronald Fisher. In the experiment, the lady is given eight cups of tea, four prepared by adding milk first and four by adding tea first. The lady's task is to correctly identify the four cups prepared by one method or the other. The null hypothesis is that the subject has no real ability to distinguish between the preparation method of the teas. The test statistic is a count of the number of successful attempts to select the four cups prepared by a given method. The distribution of possible number of successes, assuming the null hypothesis is true, can be computed using the number of combinations.\n",
    "\n",
    "I used chatgpt to help format and render mathematical formulas in LaTex so that they display clearly in the markdown cells in this notebook. ​[LaTeX Math in Jupyter Documentation](https://jupyterbook.org/en/stable/content/math.html)\n",
    "\n",
    "In the formula for combinations, \n",
    "\n",
    "$$\n",
    "\\binom{n}{k} = \\frac{n!}{k!(n-k)!},\n",
    "$$\n",
    "\n",
    "we choose $k$ objects from $n$, where $n$ is the total number of cups and $k$ is the number of cups with milk poured first.\n",
    "\n",
    "In the original experiment, the number of possible ways to choose 4 cups out of 8 is:\n",
    "\n",
    "$$\n",
    "\\binom{8}{4} = \\frac{8!}{4!(8-4)!} = 70\n",
    "$$\n",
    "\n",
    "Since only one of these combinations is completely correct, the probability of identifying all 4 correctly by chance is:\n",
    "\n",
    "$$\n",
    "P = \\frac{1}{\\binom{8}{4}} = \\frac{1}{70} \\approx 0.0143\n",
    "$$\n",
    "\n",
    "This means that the lady has a 1.4% chance of guessing correctly.\n",
    "\n",
    "## To do, add some notes to explain the calculation above and factorials and also to explain the null hypothesis from research.\n",
    "\n"
   ]
  },
  {
   "cell_type": "code",
   "execution_count": 2,
   "id": "d398b2b4",
   "metadata": {},
   "outputs": [
    {
     "data": {
      "text/plain": [
       "495"
      ]
     },
     "execution_count": 2,
     "metadata": {},
     "output_type": "execute_result"
    }
   ],
   "source": [
    "# In the continuation of this experiment, suppose we have 12 cups of tea in total — 8 poured tea first and 4 poured milk first.\n",
    "\n",
    "# Number of cups of tea in total\n",
    "no_cups = 12\n",
    "\n",
    "# Number of cups of tea with milk in first \n",
    "no_cups_milk_first = 4\n",
    "\n",
    "# Number of cups of tea with tea in first \n",
    "no_cups_tea_first = 8\n",
    "\n",
    "# Number of ways that we can select cups with milk in first from a total of 12 cups\n",
    "ways = math.comb(no_cups, no_cups_milk_first)\n",
    "\n",
    "# Show the result\n",
    "ways"
   ]
  },
  {
   "cell_type": "markdown",
   "id": "5b6cd759",
   "metadata": {},
   "source": [
    "In the continuation of this experiment  — we see the results\n",
    "\n",
    "where, $n = 12$ and $k = 4$.\n",
    "\n",
    "The number of ways to choose 4 cups with the milk in first from 12 cups is calculated as:\n",
    "\n",
    "$$\n",
    "\\binom{12}{4} = \\frac{12!}{4!(12-4)!}\n",
    "$$\n",
    "\n",
    "Evaluating this gives:\n",
    "\n",
    "$$\n",
    "\\binom{12}{4} = 495\n",
    "$$\n",
    "\n",
    "So, there are 495 different possible combinations of 4 cups with the milk in first among 12 cups in total. \n",
    "\n",
    "As the total number of cups grow, the number of possible combinations increases.\n",
    "\n",
    "The probability of identifying all 4 cups with the milk in first cups is then:\n",
    "\n",
    "$$\n",
    "P = \\frac{1}{\\binom{12}{4}} = \\frac{1}{495} \\approx 0.0020\n",
    "$$\n",
    "\n",
    "This means that the lady has a 0.20% chance of guessing correctly.\n",
    "\n",
    "\n"
   ]
  },
  {
   "cell_type": "markdown",
   "id": "1e0fb713",
   "metadata": {},
   "source": [
    "## Problem 2: Normal Distribution"
   ]
  },
  {
   "cell_type": "markdown",
   "id": "6c9b2da8",
   "metadata": {},
   "source": [
    "## Problem 3: t-Tests"
   ]
  },
  {
   "cell_type": "markdown",
   "id": "c8659377",
   "metadata": {},
   "source": [
    "##  Problem 4: Anova"
   ]
  },
  {
   "cell_type": "markdown",
   "id": "8464bfcc",
   "metadata": {},
   "source": [
    "![abacus](img/statistics.jpg)"
   ]
  },
  {
   "cell_type": "markdown",
   "id": "137cd927",
   "metadata": {},
   "source": [
    "-----------------------------------\n",
    "# END\n",
    "\n"
   ]
  }
 ],
 "metadata": {
  "kernelspec": {
   "display_name": "base",
   "language": "python",
   "name": "python3"
  },
  "language_info": {
   "codemirror_mode": {
    "name": "ipython",
    "version": 3
   },
   "file_extension": ".py",
   "mimetype": "text/x-python",
   "name": "python",
   "nbconvert_exporter": "python",
   "pygments_lexer": "ipython3",
   "version": "3.12.4"
  }
 },
 "nbformat": 4,
 "nbformat_minor": 5
}
