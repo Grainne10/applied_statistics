{
 "cells": [
  {
   "cell_type": "markdown",
   "id": "dde84775",
   "metadata": {},
   "source": []
  },
  {
   "cell_type": "markdown",
   "id": "bef12e1f",
   "metadata": {},
   "source": [
    "\n",
    "# Heading\n"
   ]
  },
  {
   "cell_type": "code",
   "execution_count": 2,
   "id": "ef48c934",
   "metadata": {},
   "outputs": [],
   "source": [
    "import yfinance as yf\n"
   ]
  },
  {
   "cell_type": "markdown",
   "id": "3abde4ef",
   "metadata": {},
   "source": []
  },
  {
   "cell_type": "markdown",
   "id": "aaad0ad9",
   "metadata": {},
   "source": []
  },
  {
   "cell_type": "markdown",
   "id": "b2a9dd20",
   "metadata": {},
   "source": []
  },
  {
   "cell_type": "markdown",
   "id": "137cd927",
   "metadata": {},
   "source": [
    "-----------------------------------\n",
    "# END\n",
    "\n"
   ]
  }
 ],
 "metadata": {
  "kernelspec": {
   "display_name": "base",
   "language": "python",
   "name": "python3"
  },
  "language_info": {
   "codemirror_mode": {
    "name": "ipython",
    "version": 3
   },
   "file_extension": ".py",
   "mimetype": "text/x-python",
   "name": "python",
   "nbconvert_exporter": "python",
   "pygments_lexer": "ipython3",
   "version": "3.12.4"
  }
 },
 "nbformat": 4,
 "nbformat_minor": 5
}
