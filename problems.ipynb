{
 "cells": [
  {
   "cell_type": "markdown",
   "id": "dde84775",
   "metadata": {},
   "source": []
  },
  {
   "cell_type": "markdown",
   "id": "bef12e1f",
   "metadata": {},
   "source": [
    "\n",
    "# Applied Statistics\n",
    "## Grainne Boyle\n"
   ]
  },
  {
   "cell_type": "code",
   "execution_count": 1,
   "id": "e97ec9f1",
   "metadata": {},
   "outputs": [],
   "source": [
    "import math\n",
    "import itertools\n",
    "import random\n",
    "import numpy as np\n",
    "import matplotlib.pyplot as plt\n"
   ]
  },
  {
   "cell_type": "markdown",
   "id": "ef48c934",
   "metadata": {},
   "source": [
    "## Problem 1: Extending the Lady Tasting Tea"
   ]
  },
  {
   "cell_type": "markdown",
   "id": "1e0fb713",
   "metadata": {},
   "source": [
    "## Problem 2: Normal Distribution"
   ]
  },
  {
   "cell_type": "markdown",
   "id": "6c9b2da8",
   "metadata": {},
   "source": [
    "## Problem 3: t-Tests"
   ]
  },
  {
   "cell_type": "markdown",
   "id": "c8659377",
   "metadata": {},
   "source": [
    "##  Problem 4: Anova"
   ]
  },
  {
   "cell_type": "markdown",
   "id": "8464bfcc",
   "metadata": {},
   "source": [
    "![abacus](img/statistics.jpg)"
   ]
  },
  {
   "cell_type": "markdown",
   "id": "137cd927",
   "metadata": {},
   "source": [
    "-----------------------------------\n",
    "# END\n",
    "\n"
   ]
  }
 ],
 "metadata": {
  "kernelspec": {
   "display_name": "base",
   "language": "python",
   "name": "python3"
  },
  "language_info": {
   "codemirror_mode": {
    "name": "ipython",
    "version": 3
   },
   "file_extension": ".py",
   "mimetype": "text/x-python",
   "name": "python",
   "nbconvert_exporter": "python",
   "pygments_lexer": "ipython3",
   "version": "3.12.4"
  }
 },
 "nbformat": 4,
 "nbformat_minor": 5
}
