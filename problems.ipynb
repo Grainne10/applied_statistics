#Set up problems.ipynb for Applied Statistics

{
 "cells": [
  {
   "cell_type": "markdown",
   "metadata": {},
   "source": [
    "# Applied Statistics Module\n",
    "\n",
    "**by Grainne Boyle**\n",
    "\n",
    "This notebook describes the problems  I have solved for the Applied Statistics module.\n"
   ]
  },

