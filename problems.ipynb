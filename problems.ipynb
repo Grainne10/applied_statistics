#{
 "cells": [
  {
   "cell_type": "markdown",
   "metadata": {},
   "source": [
    "# Applied Statistics Module\n",
    "\n",
    "**by Grainne Boyle**\n",
    "\n",
    "This notebook describes the problems I have solved for the Applied Statistics module.\n"
   ]
  }
 ],
 "metadata": {},
 "nbformat": 4,
 "nbformat_minor": 2
}
